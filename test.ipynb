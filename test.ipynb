{
 "cells": [
  {
   "cell_type": "code",
   "execution_count": 2,
   "metadata": {},
   "outputs": [
    {
     "name": "stdout",
     "output_type": "stream",
     "text": [
      "168.624\n"
     ]
    }
   ],
   "source": [
    "import numpy as np\n",
    "import numpy.ma as ma\n",
    "import matplotlib.pyplot as plt\n",
    "# from scipy.integrate import odeint\n",
    "# from scipy.optimize import fsolve\n",
    "import matplotlib.pyplot as plt\n",
    "import pandas as pd\n",
    "\n",
    "header =['SDSS', 'per', 'vtype']\n",
    "CVs = pd.read_fwf('tablea1.dat', names=header, index_col=False, colspecs=[(0,23), (76,88), (144,157)])\n",
    "CVs = CVs.dropna(subset=['per'])\n",
    "CVs['per'] = CVs['per']*24*60\n",
    "\n",
    "non_polars = CVs\n",
    "non_polars = non_polars[non_polars['vtype'].str.startswith('Polar')==False]\n",
    "non_polars = non_polars[non_polars['vtype'].str.startswith('PREP')==False]\n",
    "non_polars = non_polars[non_polars['vtype'].str.startswith('IP')==False]\n",
    "\n",
    "non_polars_arr = non_polars['per'].to_numpy()\n",
    "\n",
    "\n",
    "def LogL(lower_bound, upper_bound, periods, alfa):\n",
    "    masked_periods = ma.masked_outside(periods, lower_bound, upper_bound)\n",
    "    masked_periods = masked_periods.compressed()\n",
    "    likelihood = -1000\n",
    "    new_likelihood = 0\n",
    "    res_period = 0\n",
    "    for period in masked_periods:    \n",
    "        N0 = np.count_nonzero(period > masked_periods)\n",
    "        N1 = np.count_nonzero(period < masked_periods)\n",
    "        N = N1 + N0\n",
    "        delta0 = period - lower_bound\n",
    "        delta1 = - period + upper_bound\n",
    "        summand0 = N0 * np.log((N0 + alfa - 1) / (delta0 * (N + 2 * alfa - 1)))\n",
    "        summand1 = N1 * np.log((N1 + alfa - 1) / (delta1 * (N + 2 * alfa - 1)))\n",
    "        new_likelihood = summand0 + summand1\n",
    "        if new_likelihood > likelihood:\n",
    "            likelihood = new_likelihood\n",
    "            res_period = period\n",
    "    return res_period\n",
    "# fig, axes = plt.subplots(1, 1, figsize=(5,5))\n",
    "# axes.hist(non_polars['per'], bins=20)\n",
    "# plt.show()\n",
    "# print(non_polars_arr)\n",
    "# LogL_vals = LogL(100, 300, non_polars_arr, 2)\n",
    "print(LogL(150, 230, non_polars_arr, 1+1e-6))\n",
    "# print(non_polars[non_polars.isna().any(axis=1)])"
   ]
  },
  {
   "cell_type": "code",
   "execution_count": 10,
   "metadata": {},
   "outputs": [],
   "source": [
    "def LogL(lower_bound, upper_bound, periods, alfa):\n",
    "    likelihood = -1000\n",
    "    new_likelihood = 0\n",
    "    res_period = 0\n",
    "    res_periods = np.array([])\n",
    "    for upper in upper_bound:\n",
    "        for lower in lower_bound:\n",
    "            masked_periods = ma.masked_outside(periods, lower, upper)\n",
    "            masked_periods = masked_periods.compressed()\n",
    "            for period in masked_periods:\n",
    "                N0 = np.count_nonzero(period > masked_periods)\n",
    "                N1 = np.count_nonzero(period < masked_periods)\n",
    "                N = N1 + N0\n",
    "                delta0 = period - lower\n",
    "                delta1 = - period + upper\n",
    "                summand0 = N0 * np.log((N0 + alfa - 1) / (delta0 * (N + 2 * alfa - 1)))\n",
    "                summand1 = N1 * np.log((N1 + alfa - 1) / (delta1 * (N + 2 * alfa - 1)))\n",
    "                new_likelihood = summand0 + summand1\n",
    "                if new_likelihood > likelihood:\n",
    "                    likelihood = new_likelihood\n",
    "                    res_period = period\n",
    "            res_periods = np.append(res_periods, res_period)\n",
    "            likelihood = -1000\n",
    "            res_period = 0\n",
    "    return res_periods\n",
    "\n",
    "lower_bounds = np.arange(150, 170, 1)\n",
    "upper_bounds = np.arange(230, 250, 1)\n",
    "vals = LogL(lower_bounds, upper_bounds, non_polars_arr, 1+1e-6)\n"
   ]
  },
  {
   "cell_type": "code",
   "execution_count": 11,
   "metadata": {},
   "outputs": [
    {
     "data": {
      "text/plain": [
       "array([168.624  , 168.624  , 168.624  , 168.624  , 168.624  , 168.624  ,\n",
       "       168.624  , 168.624  , 168.624  , 168.624  , 181.44   , 181.44   ,\n",
       "       181.44   , 181.44   , 181.44   , 181.44   , 192.40704, 192.40704,\n",
       "       192.40704, 175.68   , 168.624  , 168.624  , 168.624  , 168.624  ,\n",
       "       168.624  , 168.624  , 168.624  , 168.624  , 168.624  , 181.44   ,\n",
       "       181.44   , 181.44   , 181.44   , 181.44   , 181.44   , 192.40704,\n",
       "       192.40704, 192.40704, 192.40704, 175.68   , 168.624  , 168.624  ,\n",
       "       168.624  , 168.624  , 168.624  , 168.624  , 168.624  , 168.624  ,\n",
       "       168.624  , 181.44   , 181.44   , 181.44   , 181.44   , 181.44   ,\n",
       "       181.44   , 181.44   , 192.40704, 192.40704, 192.40704, 175.68   ,\n",
       "       168.624  , 168.624  , 168.624  , 168.624  , 168.624  , 168.624  ,\n",
       "       168.624  , 168.624  , 168.624  , 168.624  , 181.44   , 181.44   ,\n",
       "       181.44   , 181.44   , 181.44   , 181.44   , 181.44   , 192.40704,\n",
       "       192.40704, 175.68   , 168.624  , 168.624  , 168.624  , 168.624  ,\n",
       "       168.624  , 168.624  , 168.624  , 168.624  , 168.624  , 181.44   ,\n",
       "       181.44   , 181.44   , 181.44   , 181.44   , 181.44   , 181.44   ,\n",
       "       192.40704, 192.40704, 192.40704, 175.68   , 168.624  , 168.624  ,\n",
       "       168.624  , 168.624  , 168.624  , 168.624  , 168.624  , 168.624  ,\n",
       "       181.44   , 181.44   , 181.44   , 181.44   , 181.44   , 181.44   ,\n",
       "       181.44   , 192.40704, 192.40704, 192.40704, 192.40704, 175.68   ,\n",
       "       168.624  , 168.624  , 168.624  , 168.624  , 168.624  , 168.624  ,\n",
       "       168.624  , 181.44   , 181.44   , 181.44   , 181.44   , 181.44   ,\n",
       "       181.44   , 181.44   , 192.40704, 192.40704, 192.40704, 192.40704,\n",
       "       192.40704, 175.68   , 168.624  , 168.624  , 168.624  , 168.624  ,\n",
       "       168.624  , 168.624  , 168.624  , 168.624  , 181.44   , 181.44   ,\n",
       "       181.44   , 181.44   , 181.44   , 181.44   , 181.44   , 192.40704,\n",
       "       192.40704, 192.40704, 192.40704, 175.68   , 168.624  , 168.624  ,\n",
       "       168.624  , 168.624  , 168.624  , 168.624  , 168.624  , 168.624  ,\n",
       "       181.44   , 181.44   , 181.44   , 181.44   , 181.44   , 181.44   ,\n",
       "       181.44   , 192.40704, 192.40704, 192.40704, 192.40704, 175.68   ,\n",
       "       168.624  , 168.624  , 168.624  , 168.624  , 168.624  , 168.624  ,\n",
       "       168.624  , 168.624  , 168.624  , 181.44   , 181.44   , 181.44   ,\n",
       "       181.44   , 181.44   , 181.44   , 181.44   , 192.40704, 192.40704,\n",
       "       192.40704, 175.68   , 168.624  , 168.624  , 168.624  , 168.624  ,\n",
       "       168.624  , 168.624  , 168.624  , 168.624  , 168.624  , 181.44   ,\n",
       "       181.44   , 181.44   , 181.44   , 181.44   , 181.44   , 181.44   ,\n",
       "       181.44   , 235.4688 , 235.4688 , 175.68   , 168.624  , 168.624  ,\n",
       "       168.624  , 168.624  , 168.624  , 168.624  , 168.624  , 168.624  ,\n",
       "       168.624  , 168.624  , 181.44   , 181.44   , 181.44   , 181.44   ,\n",
       "       181.44   , 235.4688 , 235.4688 , 235.4688 , 235.4688 , 175.68   ,\n",
       "       168.624  , 168.624  , 168.624  , 168.624  , 168.624  , 168.624  ,\n",
       "       168.624  , 168.624  , 168.624  , 168.624  , 181.44   , 181.44   ,\n",
       "       181.44   , 235.4688 , 235.4688 , 235.4688 , 235.4688 , 235.4688 ,\n",
       "       235.4688 , 175.68   , 168.624  , 168.624  , 168.624  , 168.624  ,\n",
       "       168.624  , 168.624  , 168.624  , 168.624  , 168.624  , 168.624  ,\n",
       "       168.624  , 181.44   , 235.4688 , 235.4688 , 235.4688 , 235.4688 ,\n",
       "       235.4688 , 235.4688 , 235.4688 , 235.4688 , 168.624  , 168.624  ,\n",
       "       168.624  , 168.624  , 168.624  , 168.624  , 168.624  , 168.624  ,\n",
       "       168.624  , 168.624  , 168.624  , 235.4688 , 235.4688 , 235.4688 ,\n",
       "       235.4688 , 235.4688 , 235.4688 , 235.4688 , 235.4688 , 235.4688 ,\n",
       "       168.624  , 168.624  , 168.624  , 168.624  , 168.624  , 168.624  ,\n",
       "       168.624  , 168.624  , 168.624  , 168.624  , 235.4688 , 235.4688 ,\n",
       "       235.4688 , 235.4688 , 235.4688 , 235.4688 , 235.4688 , 235.4688 ,\n",
       "       235.4688 , 235.4688 , 168.624  , 168.624  , 168.624  , 168.624  ,\n",
       "       168.624  , 168.624  , 168.624  , 168.624  , 168.624  , 168.624  ,\n",
       "       181.44   , 181.44   , 181.44   , 181.44   , 181.44   , 181.44   ,\n",
       "       181.44   , 192.40704, 192.40704, 175.68   , 168.624  , 168.624  ,\n",
       "       168.624  , 168.624  , 168.624  , 168.624  , 168.624  , 168.624  ,\n",
       "       168.624  , 168.624  , 181.44   , 181.44   , 181.44   , 181.44   ,\n",
       "       181.44   , 181.44   , 181.44   , 181.44   , 192.40704, 175.68   ,\n",
       "       168.624  , 168.624  , 168.624  , 168.624  , 168.624  , 168.624  ,\n",
       "       168.624  , 168.624  , 168.624  , 168.624  , 168.624  , 181.44   ,\n",
       "       181.44   , 181.44   , 181.44   , 181.44   , 181.44   , 181.44   ,\n",
       "       192.40704, 175.68   , 168.624  , 168.624  , 168.624  , 168.624  ,\n",
       "       168.624  , 168.624  , 168.624  , 168.624  , 168.624  , 168.624  ,\n",
       "       168.624  , 181.44   , 181.44   , 181.44   , 181.44   , 181.44   ,\n",
       "       181.44   , 181.44   , 235.4688 , 175.68   ])"
      ]
     },
     "execution_count": 11,
     "metadata": {},
     "output_type": "execute_result"
    }
   ],
   "source": [
    "vals"
   ]
  },
  {
   "cell_type": "code",
   "execution_count": 12,
   "metadata": {},
   "outputs": [
    {
     "data": {
      "image/png": "[encoded data removed]",
      "text/plain": [
       "<Figure size 500x500 with 2 Axes>"
      ]
     },
     "metadata": {},
     "output_type": "display_data"
    }
   ],
   "source": [
    "import matplotlib as mpl\n",
    "fig, ax = plt.subplots(1, 1, figsize=(5,5))\n",
    "cmap = mpl.cm.viridis\n",
    "bounds = [0, 168.624, 175.68, 181.44, 192.40704]\n",
    "norm = mpl.colors.BoundaryNorm(bounds, cmap.N, extend='neither')\n",
    "Im = ax.imshow(vals.reshape(20,20), extent=[150, 170, 230, 250], aspect='auto', origin='lower') \n",
    "# ax.imshow(vals.reshape(20,20), extent=[150, 170, 230, 250], aspect='auto')\n",
    "# cax = fig.colorbar(Im, ax=ax, extend='both')\n",
    "cbar = fig.colorbar(mpl.cm.ScalarMappable(norm=norm, cmap=cmap), ax=ax)\n",
    "cbar.set_ticks([168.624, 175.68, 181.44, 192.40704])"
   ]
  }
 ],
 "metadata": {
  "kernelspec": {
   "display_name": "venv",
   "language": "python",
   "name": "python3"
  },
  "language_info": {
   "codemirror_mode": {
    "name": "ipython",
    "version": 3
   },
   "file_extension": ".py",
   "mimetype": "text/x-python",
   "name": "python",
   "nbconvert_exporter": "python",
   "pygments_lexer": "ipython3",
   "version": "3.11.2"
  }
 },
 "nbformat": 4,
 "nbformat_minor": 2
}
